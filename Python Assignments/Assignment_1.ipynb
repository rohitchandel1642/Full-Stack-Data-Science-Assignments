{
 "cells": [
  {
   "cell_type": "markdown",
   "id": "fa2db84f",
   "metadata": {},
   "source": [
    "# Assignment 1"
   ]
  },
  {
   "cell_type": "raw",
   "id": "9f553d95",
   "metadata": {},
   "source": [
    "1. In the below elements which of them are values or an expression? eg:- values can be\n",
    "integer or string and expressions will be mathematical operators.\n",
    "\n",
    " *         Expression\n",
    " 'hello'   Value\n",
    " -87.8     Value\n",
    " -         Expression\n",
    " /         Expression\n",
    "     +     Expression\n",
    " 6         Value"
   ]
  },
  {
   "cell_type": "raw",
   "id": "6841682f",
   "metadata": {},
   "source": [
    "2. What is the difference between string and variable?\n",
    "\n",
    " String is a data type in Python which is defined as collection of characters whereas, \n",
    " Variable is a container for storing data values. We can store string in a variable."
   ]
  },
  {
   "cell_type": "raw",
   "id": "8f0d951e",
   "metadata": {},
   "source": [
    "3. Describe three different data types.\n",
    "\n",
    "\n",
    " Integer : Positive and negative whole numbers.\n",
    " Example : 2\n",
    " \n",
    " Float : Positive and negative numbers that contains decimal point.\n",
    " Example : -81.2\n",
    " \n",
    " String : Ordered collection of characters enclosed in single or double quotes.\n",
    " Example : \"This is a String\"\n"
   ]
  },
  {
   "cell_type": "raw",
   "id": "413ae6db",
   "metadata": {},
   "source": [
    "4. What is an expression made up of? What do all expressions do?\n",
    "\n",
    " Expression is made up of operators and operands. \n",
    " All expressions evaluate to some value."
   ]
  },
  {
   "cell_type": "raw",
   "id": "e904f8c0",
   "metadata": {},
   "source": [
    "5. This assignment statements, like spam = 10. What is the difference between an expression and a statement?\n",
    "\n",
    " Expression always evaluates to a value whereas, statement may or may not produce value or display result based on what kind\n",
    " of statement it is.\n",
    " spam = 10 assigns 10 to variable spam but does not produce a value."
   ]
  },
  {
   "cell_type": "raw",
   "id": "dbdbfe9d",
   "metadata": {},
   "source": [
    "6. After running the following code, what does the variable bacon contain?\n",
    "bacon = 22\n",
    "bacon + 1\n",
    "\n",
    " variable bacon contains 22, the sum  expression is evaluated but not assigned to variable bacon."
   ]
  },
  {
   "cell_type": "raw",
   "id": "38c9fe16",
   "metadata": {},
   "source": [
    "7. What should the values of the following two terms be?\n",
    "'spam' + 'spamspam'\n",
    "'spam' * 3\n",
    "\n",
    " For both the expressions resultant value will be \"spamspamspam\""
   ]
  },
  {
   "cell_type": "raw",
   "id": "4cd94fe1",
   "metadata": {},
   "source": [
    "8. Why is eggs a valid variable name while 100 is invalid?\n",
    "\n",
    " Variable name can start with a letter or underscore but not a number.\n",
    " "
   ]
  },
  {
   "cell_type": "raw",
   "id": "3e8fa96e",
   "metadata": {},
   "source": [
    "9. What three functions can be used to get the integer, floating-point number, or string version of a value?\n",
    "\n",
    " Following functions can be used:-\n",
    "  1) int(value) - Integer\n",
    "  2) float(value) - Floating-point number\n",
    "  3) str(value) - String\n",
    " "
   ]
  },
  {
   "cell_type": "raw",
   "id": "8160bfc7",
   "metadata": {},
   "source": [
    "10. Why does this expression cause an error? How can you fix it?\n",
    "'I have eaten ' + 99 + ' burritos.'\n",
    "\n",
    " This error occurs because integer cannot be concatenated with string.\n",
    " We can fix this error by enclosing 99 in quotes or by using str function.\n",
    " \n",
    " 'I have eaten ' + \"99\" + ' burritos.' \n",
    " 'I have eaten ' + str(99) + ' burritos.'"
   ]
  }
 ],
 "metadata": {
  "kernelspec": {
   "display_name": "Python 3 (ipykernel)",
   "language": "python",
   "name": "python3"
  },
  "language_info": {
   "codemirror_mode": {
    "name": "ipython",
    "version": 3
   },
   "file_extension": ".py",
   "mimetype": "text/x-python",
   "name": "python",
   "nbconvert_exporter": "python",
   "pygments_lexer": "ipython3",
   "version": "3.9.7"
  }
 },
 "nbformat": 4,
 "nbformat_minor": 5
}
