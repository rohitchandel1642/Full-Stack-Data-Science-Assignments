{
 "cells": [
  {
   "cell_type": "markdown",
   "id": "d76cc3b8",
   "metadata": {},
   "source": [
    "# Assignment 1 Solutions"
   ]
  },
  {
   "cell_type": "markdown",
   "id": "443126ae",
   "metadata": {
    "raw_mimetype": "text/markdown"
   },
   "source": [
    "#### 1. In the below elements which of them are values or an expression? eg:- values can be integer or string and expressions will be mathematical operators.\n",
    "\n"
   ]
  },
  {
   "cell_type": "markdown",
   "id": "258ce19b",
   "metadata": {},
   "source": [
    "    *        : Expression \n",
    "    'hello'  : Value\n",
    "    -87.8    : Value\n",
    "    -        : Expression\n",
    "    /        : Expression\n",
    "    +        : Expression\n",
    "    6        : Value "
   ]
  },
  {
   "cell_type": "markdown",
   "id": "5b242642",
   "metadata": {
    "raw_mimetype": "text/markdown"
   },
   "source": [
    "#### 2. What is the difference between string and variable? "
   ]
  },
  {
   "cell_type": "markdown",
   "id": "335016dd",
   "metadata": {},
   "source": [
    "  * String is a data type in Python which is defined as collection of characters. \n",
    "  * Variable is a container for storing data values. We can store string in a variable."
   ]
  },
  {
   "cell_type": "markdown",
   "id": "04ded625",
   "metadata": {
    "raw_mimetype": "text/markdown"
   },
   "source": [
    "#### 3. Describe three different data types.\n",
    "\n",
    " * Integer : Positive and negative whole numbers.\n",
    "   \n",
    " * Float : Positive and negative numbers that contains decimal point.\n",
    "  \n",
    " * String : Ordered collection of characters enclosed in single or double quotes.\n",
    " \n"
   ]
  },
  {
   "cell_type": "code",
   "execution_count": 1,
   "id": "c8bfe05f",
   "metadata": {},
   "outputs": [
    {
     "name": "stdout",
     "output_type": "stream",
     "text": [
      "<class 'int'>\n",
      "<class 'float'>\n",
      "<class 'str'>\n"
     ]
    }
   ],
   "source": [
    "print(type(2))\n",
    "print(type(-81.2))\n",
    "print(type(\"This is a String\"))"
   ]
  },
  {
   "cell_type": "markdown",
   "id": "7a0c1c38",
   "metadata": {},
   "source": [
    "#### 4. What is an expression made up of? What do all expressions do?\n",
    "\n",
    " * Expression is made up of operators and operands. \n",
    " * All expressions evaluate to some value."
   ]
  },
  {
   "cell_type": "markdown",
   "id": "4c44356b",
   "metadata": {},
   "source": [
    "#### 5. This assignment statements, like spam = 10. What is the difference between an expression and a statement?\n",
    "\n",
    " * Expression always evaluates to a value whereas, statement may or may not produce value or display result based on what kind of statement it is.\n",
    " * spam = 10 statement assigns 10 to variable spam but does not produce a value."
   ]
  },
  {
   "cell_type": "markdown",
   "id": "6af5ef70",
   "metadata": {},
   "source": [
    "#### 6. After running the following code, what does the variable bacon contain?\n",
    "bacon = 22\n",
    "\n",
    "bacon + 1\n",
    "\n",
    " * variable bacon contains 22, the sum  expression is evaluated but not assigned to variable bacon."
   ]
  },
  {
   "cell_type": "code",
   "execution_count": 2,
   "id": "5cf20273",
   "metadata": {},
   "outputs": [
    {
     "name": "stdout",
     "output_type": "stream",
     "text": [
      "22\n"
     ]
    }
   ],
   "source": [
    "bacon = 22\n",
    "bacon + 1\n",
    "print(bacon)"
   ]
  },
  {
   "cell_type": "markdown",
   "id": "43e4e91f",
   "metadata": {},
   "source": [
    "#### 7. What should the values of the following two terms be?\n",
    "'spam' + 'spamspam'\n",
    "\n",
    "'spam' * 3\n",
    "\n",
    " * For both the expressions resultant value will be \"spamspamspam\""
   ]
  },
  {
   "cell_type": "markdown",
   "id": "ccdfe632",
   "metadata": {},
   "source": [
    "#### 8. Why is eggs a valid variable name while 100 is invalid?\n",
    "\n",
    " * Variable name can start with a letter or underscore but not a number.\n",
    " "
   ]
  },
  {
   "cell_type": "markdown",
   "id": "cd249057",
   "metadata": {},
   "source": [
    "#### 9. What three functions can be used to get the integer, floating-point number, or string version of a value?\n",
    "\n",
    "Following functions can be used:-\n",
    "\n",
    "  * 1) int(value) - Integer\n",
    "  * 2) float(value) - Floating-point number\n",
    "  * 3) str(value) - String\n",
    " "
   ]
  },
  {
   "cell_type": "code",
   "execution_count": 3,
   "id": "a6056b84",
   "metadata": {
    "scrolled": true
   },
   "outputs": [
    {
     "name": "stdout",
     "output_type": "stream",
     "text": [
      "88 <class 'int'>\n",
      "11.0 <class 'float'>\n",
      "99 <class 'str'>\n"
     ]
    }
   ],
   "source": [
    "print( int(88.2), type(int(88.2)))\n",
    "print( float(11), type(float(11)))\n",
    "print( str(99), type(str(99)))"
   ]
  },
  {
   "cell_type": "markdown",
   "id": "129f586a",
   "metadata": {},
   "source": [
    "#### 10. Why does this expression cause an error? How can you fix it?\n",
    "'I have eaten ' + 99 + ' burritos.'\n",
    "\n",
    " * This error occurs because integer cannot be concatenated with string.\n",
    " * We can fix this error by enclosing 99 in quotes or by using str function.\n",
    " \n"
   ]
  },
  {
   "cell_type": "code",
   "execution_count": 4,
   "id": "67589493",
   "metadata": {},
   "outputs": [
    {
     "name": "stdout",
     "output_type": "stream",
     "text": [
      "I have eaten 99 burritos.\n",
      "I have eaten 99 burritos.\n"
     ]
    }
   ],
   "source": [
    "print('I have eaten ' + \"99\" + ' burritos.' )\n",
    "print('I have eaten ' + str(99) + ' burritos.')"
   ]
  }
 ],
 "metadata": {
  "kernelspec": {
   "display_name": "Python 3 (ipykernel)",
   "language": "python",
   "name": "python3"
  },
  "language_info": {
   "codemirror_mode": {
    "name": "ipython",
    "version": 3
   },
   "file_extension": ".py",
   "mimetype": "text/x-python",
   "name": "python",
   "nbconvert_exporter": "python",
   "pygments_lexer": "ipython3",
   "version": "3.9.7"
  }
 },
 "nbformat": 4,
 "nbformat_minor": 5
}
